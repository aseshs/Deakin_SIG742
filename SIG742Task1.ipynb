{
  "nbformat": 4,
  "nbformat_minor": 0,
  "metadata": {
    "colab": {
      "provenance": [],
      "authorship_tag": "ABX9TyPumeaXXnYWdIHAFyn0WZDd",
      "include_colab_link": true
    },
    "kernelspec": {
      "name": "python3",
      "display_name": "Python 3"
    },
    "language_info": {
      "name": "python"
    }
  },
  "cells": [
    {
      "cell_type": "markdown",
      "metadata": {
        "id": "view-in-github",
        "colab_type": "text"
      },
      "source": [
        "<a href=\"https://colab.research.google.com/github/aseshs/Deakin_SIG742/blob/main/SIG742Task1.ipynb\" target=\"_parent\"><img src=\"https://colab.research.google.com/assets/colab-badge.svg\" alt=\"Open In Colab\"/></a>"
      ]
    },
    {
      "cell_type": "markdown",
      "source": [
        "**Student ID** : 223919098\n",
        "\n",
        "**Student Name** : Asesh Kumar Sahoo\n",
        "\n",
        "**Attempted High Distinction Question**: No"
      ],
      "metadata": {
        "id": "leBdYVw1m2nU"
      }
    },
    {
      "cell_type": "code",
      "source": [],
      "metadata": {
        "id": "vTOUZBhZm1Tm"
      },
      "execution_count": null,
      "outputs": []
    },
    {
      "cell_type": "code",
      "source": [
        "import numpy as np\n",
        "import pandas as pd"
      ],
      "metadata": {
        "id": "_FGEkqWGmyl7"
      },
      "execution_count": 5,
      "outputs": []
    },
    {
      "cell_type": "markdown",
      "source": [
        "**Part 1**"
      ],
      "metadata": {
        "id": "Zau0ILIfnze7"
      }
    },
    {
      "cell_type": "markdown",
      "source": [
        "\n",
        "\n",
        "Question 1.1\n",
        "\n",
        "ages = [5,31,43,48,50,41,7,11,15,39,80,82,32,2,8,6,25,36,27,61,31] and the length of the list is 21\n",
        "\n",
        "• find the average value of age (don’t use numpy and do not import other module or library, do not directly use math,statistics module functions except the function sum);\n",
        "\n",
        "• find the standard deviation from the age list (don’t use numpy and do not import other module or library, do not directly use math, statistics module functions except the function sum)\n",
        "\n"
      ],
      "metadata": {
        "id": "GsPs-XXPnga2"
      }
    },
    {
      "cell_type": "code",
      "source": [
        "ages = [5,31,43,48,50,41,7,11,15,39,80,82,32,2,8,6,25,36,27,61,31]"
      ],
      "metadata": {
        "id": "CYaQpPJVnwlZ"
      },
      "execution_count": 6,
      "outputs": []
    },
    {
      "cell_type": "code",
      "source": [
        "count=len(ages)\n",
        "print(count)"
      ],
      "metadata": {
        "colab": {
          "base_uri": "https://localhost:8080/"
        },
        "id": "O7qPGIssoFSy",
        "outputId": "54ddc7e7-1181-4294-a88f-e40d9afc471d"
      },
      "execution_count": 10,
      "outputs": [
        {
          "output_type": "stream",
          "name": "stdout",
          "text": [
            "21\n"
          ]
        }
      ]
    },
    {
      "cell_type": "code",
      "source": [],
      "metadata": {
        "id": "NsEMyzeQoG7M"
      },
      "execution_count": null,
      "outputs": []
    }
  ]
}